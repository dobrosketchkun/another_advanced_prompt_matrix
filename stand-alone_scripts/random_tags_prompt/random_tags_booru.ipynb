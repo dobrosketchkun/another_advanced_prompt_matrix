{
  "nbformat": 4,
  "nbformat_minor": 0,
  "metadata": {
    "colab": {
      "provenance": []
    },
    "kernelspec": {
      "name": "python3",
      "display_name": "Python 3"
    },
    "language_info": {
      "name": "python"
    }
  },
  "cells": [
    {
      "cell_type": "code",
      "execution_count": null,
      "metadata": {
        "cellView": "form",
        "id": "MN--ONWif8-C"
      },
      "outputs": [],
      "source": [
        "#@title Random Installation\n",
        "#@markdown <-- Click it    \n",
        "\n",
        "#@markdown Run this cell\n",
        "\n",
        "\n",
        "!wget https://raw.githubusercontent.com/dobrosketchkun/yet_another_stable_diffusion_webui_scripts_repository/main/stand-alone_scripts/random_tags_prompt/random_tags_booru.py\n",
        "\n",
        "from IPython.display import HTML, display\n",
        "\n",
        "def set_css():\n",
        "  display(HTML('''\n",
        "  <style>\n",
        "    pre {\n",
        "        white-space: pre-wrap;\n",
        "    }\n",
        "  </style>\n",
        "  '''))\n",
        "get_ipython().events.register('pre_run_cell', set_css)"
      ]
    },
    {
      "cell_type": "markdown",
      "source": [
        "## Generate prompt from post from booru site"
      ],
      "metadata": {
        "id": "yhrJRxbghEZP"
      }
    },
    {
      "cell_type": "code",
      "source": [
        "#@title Random post\n",
        "#@markdown <-- Click it    \n",
        "\n",
        "#@markdown Generate prompt from random post from booru site (safebooru, gelbooru or danbooru)\n",
        "\n",
        "booru = 'safebooru' #@param ['safebooru', 'gelbooru', 'danbooru']\n",
        "\n",
        "!python random_tags_booru.py $booru"
      ],
      "metadata": {
        "colab": {
          "base_uri": "https://localhost:8080/",
          "height": 86
        },
        "cellView": "form",
        "id": "DwHAjiOPgLDJ",
        "outputId": "bf03c6d1-6609-4607-bd70-8b42c5b35df0"
      },
      "execution_count": 4,
      "outputs": [
        {
          "output_type": "display_data",
          "data": {
            "text/plain": [
              "<IPython.core.display.HTML object>"
            ],
            "text/html": [
              "\n",
              "  <style>\n",
              "    pre {\n",
              "        white-space: pre-wrap;\n",
              "    }\n",
              "  </style>\n",
              "  "
            ]
          },
          "metadata": {}
        },
        {
          "output_type": "stream",
          "name": "stdout",
          "text": [
            "https://safebooru.org/index.php?page=post&s=view&id=3744387\n",
            "\n",
            "1girl, :d, ball, bangs, blue border, blue eyes, blue footwear, blue shirt, blue shorts, border, braid, clenched hand, confetti, hair between eyes, hand up, highres, holding, japanese flag, long hair, looking at viewer, one eye closed, open mouth, shirt, shoes, shorts, simple background, smile, sneakers, soccer, soccer ball, soccer uniform, solo, sportswear, twin braids, white background, white hair\n"
          ]
        }
      ]
    },
    {
      "cell_type": "code",
      "source": [
        "#@title Specific post\n",
        "#@markdown <-- Click it    \n",
        "\n",
        "#@markdown Generate prompt from specific post from booru site (safebooru, gelbooru or danbooru)\n",
        "\n",
        "post_url = 'https://safebooru.org/index.php?page=post&s=view&id=4249333' #@param {type: \"string\"}\n",
        "post_url = f'\"{post_url}\"'\n",
        "!python random_tags_booru.py url $post_url"
      ],
      "metadata": {
        "colab": {
          "base_uri": "https://localhost:8080/",
          "height": 86
        },
        "id": "l7B7w_DZhPig",
        "outputId": "9b46aa3a-9b6a-4f88-9178-bf5c5f064eff"
      },
      "execution_count": 24,
      "outputs": [
        {
          "output_type": "display_data",
          "data": {
            "text/plain": [
              "<IPython.core.display.HTML object>"
            ],
            "text/html": [
              "\n",
              "  <style>\n",
              "    pre {\n",
              "        white-space: pre-wrap;\n",
              "    }\n",
              "  </style>\n",
              "  "
            ]
          },
          "metadata": {}
        },
        {
          "output_type": "stream",
          "name": "stdout",
          "text": [
            "https://safebooru.org/index.php?page=post&s=view&id=4249333\n",
            "\n",
            "1girl, :d, ahoge, akane (akaneoekaki0928), bangs, black shirt, green eyes, hair between eyes, hairpods, highres, looking at viewer, medium hair, open mouth, pink hair, shirt, smile, solo, star-shaped pupils, star (symbol), symbol-shaped pupils, teeth, twitter username, upper body, upper teeth only\n"
          ]
        }
      ]
    },
    {
      "cell_type": "code",
      "source": [
        "#@title Search seafbooru tag (random post)\n",
        "#@markdown <-- Click it    \n",
        "\n",
        "#@markdown Generate prompt from random post from search from safebooru site \n",
        "\n",
        "search_tag = '1girl' #@param {type: \"string\"}\n",
        "# post_url = f'\"{post_url}\"'\n",
        "!python random_tags_booru.py search safebooru $search_tag"
      ],
      "metadata": {
        "colab": {
          "base_uri": "https://localhost:8080/",
          "height": 121
        },
        "cellView": "form",
        "id": "GURYusHpjwah",
        "outputId": "d977d1e0-7e13-4112-98e1-83669d7da48f"
      },
      "execution_count": 23,
      "outputs": [
        {
          "output_type": "display_data",
          "data": {
            "text/plain": [
              "<IPython.core.display.HTML object>"
            ],
            "text/html": [
              "\n",
              "  <style>\n",
              "    pre {\n",
              "        white-space: pre-wrap;\n",
              "    }\n",
              "  </style>\n",
              "  "
            ]
          },
          "metadata": {}
        },
        {
          "output_type": "stream",
          "name": "stdout",
          "text": [
            "https://safebooru.org/index.php?page=post&s=list&tags=1girl \n",
            "\n",
            "https://safebooru.org/index.php?page=post&s=view&id=4166868\n",
            "\n",
            "1girl, animal ears, apron, blonde hair, blush, bow, fake animal ears, hair ornament, hakama, hakama skirt, hand tattoo, heterochromia, highres, japanese clothes, kimono, leg tattoo, looking at viewer, second-party source, short hair, skirt, smile, tattoo, thigh-highs, waitress, yagasuri\n"
          ]
        }
      ]
    }
  ]
}
